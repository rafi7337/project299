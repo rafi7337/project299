{
 "cells": [
  {
   "cell_type": "code",
   "execution_count": 4,
   "id": "5cb6b261-d310-454d-8d7a-05f4d8e1c074",
   "metadata": {},
   "outputs": [],
   "source": [
    "#importing all the libraries\n",
    "import pandas as pd\n",
    "import numpy as np\n",
    "import seaborn as sns"
   ]
  },
  {
   "cell_type": "code",
   "execution_count": 6,
   "id": "25f80f73-6318-4a78-9e23-c3fdd9297623",
   "metadata": {},
   "outputs": [
    {
     "name": "stdout",
     "output_type": "stream",
     "text": [
      "D:\\Jupyter Notebook\n"
     ]
    }
   ],
   "source": [
    "import os\n",
    "print(os.getcwd())"
   ]
  },
  {
   "cell_type": "code",
   "execution_count": 9,
   "id": "0919a44b-64bb-4e73-9c6c-e786bd8e72fd",
   "metadata": {},
   "outputs": [],
   "source": [
    "#directing the .csv file location \n",
    "df = pd.read_csv(r'D:\\Jupyter Notebook\\bangla_spam.csv')"
   ]
  },
  {
   "cell_type": "code",
   "execution_count": 10,
   "id": "4105abf1-a4f1-41af-a952-caaa4e4b4d59",
   "metadata": {},
   "outputs": [
    {
     "name": "stdout",
     "output_type": "stream",
     "text": [
      "   type                                               text\n",
      "0  spam  এই মেসেজটি শেয়ার করুন এবং জিতে নিন আকর্ষণীয় ...\n",
      "1  spam  আপনার বন্ধুদের রেফার করুন এবং প্রতি রেফারেলে ২...\n",
      "2   ham  ট্রানজ্যাকশন নম্বর R234321.1554.640085 20 টাকা...\n",
      "3  spam  নতুন অফার! সীমিত সময়ের জন্য পণ্যের উপর ৯০% পর...\n",
      "4   ham  নববর্ষের শুভেচ্ছা!! আল্লাহ আপনার সকল কষ্ট দূর ...\n"
     ]
    }
   ],
   "source": [
    "#printing the DataFrame\n",
    "print(df.head())"
   ]
  },
  {
   "cell_type": "code",
   "execution_count": 11,
   "id": "1627772e-c471-4855-acbf-7c8944eca1fc",
   "metadata": {},
   "outputs": [
    {
     "data": {
      "text/html": [
       "<div>\n",
       "<style scoped>\n",
       "    .dataframe tbody tr th:only-of-type {\n",
       "        vertical-align: middle;\n",
       "    }\n",
       "\n",
       "    .dataframe tbody tr th {\n",
       "        vertical-align: top;\n",
       "    }\n",
       "\n",
       "    .dataframe thead th {\n",
       "        text-align: right;\n",
       "    }\n",
       "</style>\n",
       "<table border=\"1\" class=\"dataframe\">\n",
       "  <thead>\n",
       "    <tr style=\"text-align: right;\">\n",
       "      <th></th>\n",
       "      <th>type</th>\n",
       "      <th>text</th>\n",
       "      <th>spam</th>\n",
       "    </tr>\n",
       "  </thead>\n",
       "  <tbody>\n",
       "    <tr>\n",
       "      <th>0</th>\n",
       "      <td>spam</td>\n",
       "      <td>এই মেসেজটি শেয়ার করুন এবং জিতে নিন আকর্ষণীয় ...</td>\n",
       "      <td>1</td>\n",
       "    </tr>\n",
       "    <tr>\n",
       "      <th>1</th>\n",
       "      <td>spam</td>\n",
       "      <td>আপনার বন্ধুদের রেফার করুন এবং প্রতি রেফারেলে ২...</td>\n",
       "      <td>1</td>\n",
       "    </tr>\n",
       "    <tr>\n",
       "      <th>2</th>\n",
       "      <td>ham</td>\n",
       "      <td>ট্রানজ্যাকশন নম্বর R234321.1554.640085 20 টাকা...</td>\n",
       "      <td>0</td>\n",
       "    </tr>\n",
       "    <tr>\n",
       "      <th>3</th>\n",
       "      <td>spam</td>\n",
       "      <td>নতুন অফার! সীমিত সময়ের জন্য পণ্যের উপর ৯০% পর...</td>\n",
       "      <td>1</td>\n",
       "    </tr>\n",
       "    <tr>\n",
       "      <th>4</th>\n",
       "      <td>ham</td>\n",
       "      <td>নববর্ষের শুভেচ্ছা!! আল্লাহ আপনার সকল কষ্ট দূর ...</td>\n",
       "      <td>0</td>\n",
       "    </tr>\n",
       "  </tbody>\n",
       "</table>\n",
       "</div>"
      ],
      "text/plain": [
       "   type                                               text  spam\n",
       "0  spam  এই মেসেজটি শেয়ার করুন এবং জিতে নিন আকর্ষণীয় ...     1\n",
       "1  spam  আপনার বন্ধুদের রেফার করুন এবং প্রতি রেফারেলে ২...     1\n",
       "2   ham  ট্রানজ্যাকশন নম্বর R234321.1554.640085 20 টাকা...     0\n",
       "3  spam  নতুন অফার! সীমিত সময়ের জন্য পণ্যের উপর ৯০% পর...     1\n",
       "4   ham  নববর্ষের শুভেচ্ছা!! আল্লাহ আপনার সকল কষ্ট দূর ...     0"
      ]
     },
     "execution_count": 11,
     "metadata": {},
     "output_type": "execute_result"
    }
   ],
   "source": [
    "# Adding a new column named'spam' where 'spam' = 1 if 'type' is 'spam', else add 0\n",
    "df['spam'] = df['type'].apply(lambda x: 1 if x == 'spam' else 0)\n",
    "\n",
    "# Display the updated DataFrame\n",
    "df.head()"
   ]
  },
  {
   "cell_type": "code",
   "execution_count": 12,
   "id": "d84c6cea-a763-4d9c-9248-588ed3b4cbb4",
   "metadata": {},
   "outputs": [
    {
     "data": {
      "text/plain": [
       "spam\n",
       "1    1403\n",
       "0    1199\n",
       "Name: count, dtype: int64"
      ]
     },
     "execution_count": 12,
     "metadata": {},
     "output_type": "execute_result"
    }
   ],
   "source": [
    "#counting all spam and ham values\n",
    "df['spam'].value_counts()"
   ]
  },
  {
   "cell_type": "code",
   "execution_count": 13,
   "id": "6dd33ec6-4e1d-4e41-a80e-0c4dc3f87cf1",
   "metadata": {},
   "outputs": [],
   "source": [
    "#droping all the duplicates if there any\n",
    "df.drop_duplicates(inplace=True)"
   ]
  },
  {
   "cell_type": "code",
   "execution_count": 14,
   "id": "0f0e273c-4a09-42be-877b-21a65de21ba7",
   "metadata": {},
   "outputs": [
    {
     "data": {
      "text/html": [
       "<div>\n",
       "<style scoped>\n",
       "    .dataframe tbody tr th:only-of-type {\n",
       "        vertical-align: middle;\n",
       "    }\n",
       "\n",
       "    .dataframe tbody tr th {\n",
       "        vertical-align: top;\n",
       "    }\n",
       "\n",
       "    .dataframe thead th {\n",
       "        text-align: right;\n",
       "    }\n",
       "</style>\n",
       "<table border=\"1\" class=\"dataframe\">\n",
       "  <thead>\n",
       "    <tr style=\"text-align: right;\">\n",
       "      <th></th>\n",
       "      <th>type</th>\n",
       "      <th>text</th>\n",
       "      <th>spam</th>\n",
       "    </tr>\n",
       "  </thead>\n",
       "  <tbody>\n",
       "    <tr>\n",
       "      <th>0</th>\n",
       "      <td>spam</td>\n",
       "      <td>এই মেসেজটি শেয়ার করুন এবং জিতে নিন আকর্ষণীয় ...</td>\n",
       "      <td>1</td>\n",
       "    </tr>\n",
       "    <tr>\n",
       "      <th>1</th>\n",
       "      <td>spam</td>\n",
       "      <td>আপনার বন্ধুদের রেফার করুন এবং প্রতি রেফারেলে ২...</td>\n",
       "      <td>1</td>\n",
       "    </tr>\n",
       "    <tr>\n",
       "      <th>2</th>\n",
       "      <td>ham</td>\n",
       "      <td>ট্রানজ্যাকশন নম্বর R234321.1554.640085 20 টাকা...</td>\n",
       "      <td>0</td>\n",
       "    </tr>\n",
       "    <tr>\n",
       "      <th>3</th>\n",
       "      <td>spam</td>\n",
       "      <td>নতুন অফার! সীমিত সময়ের জন্য পণ্যের উপর ৯০% পর...</td>\n",
       "      <td>1</td>\n",
       "    </tr>\n",
       "    <tr>\n",
       "      <th>4</th>\n",
       "      <td>ham</td>\n",
       "      <td>নববর্ষের শুভেচ্ছা!! আল্লাহ আপনার সকল কষ্ট দূর ...</td>\n",
       "      <td>0</td>\n",
       "    </tr>\n",
       "    <tr>\n",
       "      <th>...</th>\n",
       "      <td>...</td>\n",
       "      <td>...</td>\n",
       "      <td>...</td>\n",
       "    </tr>\n",
       "    <tr>\n",
       "      <th>2597</th>\n",
       "      <td>spam</td>\n",
       "      <td>প্রতিদিন ১০০ টাকা জিততে চান? এখনই অংশগ্রহণ করুন!</td>\n",
       "      <td>1</td>\n",
       "    </tr>\n",
       "    <tr>\n",
       "      <th>2598</th>\n",
       "      <td>spam</td>\n",
       "      <td>মোবাইল অ্যাপ ডাউনলোড করুন এবং ৫০০ টাকা বোনাস পান!</td>\n",
       "      <td>1</td>\n",
       "    </tr>\n",
       "    <tr>\n",
       "      <th>2599</th>\n",
       "      <td>spam</td>\n",
       "      <td>নতুন গ্রাহকদের জন্য বিশেষ অফার, আজই উপভোগ করুন!</td>\n",
       "      <td>1</td>\n",
       "    </tr>\n",
       "    <tr>\n",
       "      <th>2600</th>\n",
       "      <td>spam</td>\n",
       "      <td>আপনার অ্যাকাউন্ট আপগ্রেড করুন এবং এক্সক্লুসিভ ...</td>\n",
       "      <td>1</td>\n",
       "    </tr>\n",
       "    <tr>\n",
       "      <th>2601</th>\n",
       "      <td>spam</td>\n",
       "      <td>বিশেষ ছাড়! ২৪ ঘন্টার মধ্যে অর্ডার করুন এবং ৩০...</td>\n",
       "      <td>1</td>\n",
       "    </tr>\n",
       "  </tbody>\n",
       "</table>\n",
       "<p>2577 rows × 3 columns</p>\n",
       "</div>"
      ],
      "text/plain": [
       "      type                                               text  spam\n",
       "0     spam  এই মেসেজটি শেয়ার করুন এবং জিতে নিন আকর্ষণীয় ...     1\n",
       "1     spam  আপনার বন্ধুদের রেফার করুন এবং প্রতি রেফারেলে ২...     1\n",
       "2      ham  ট্রানজ্যাকশন নম্বর R234321.1554.640085 20 টাকা...     0\n",
       "3     spam  নতুন অফার! সীমিত সময়ের জন্য পণ্যের উপর ৯০% পর...     1\n",
       "4      ham  নববর্ষের শুভেচ্ছা!! আল্লাহ আপনার সকল কষ্ট দূর ...     0\n",
       "...    ...                                                ...   ...\n",
       "2597  spam   প্রতিদিন ১০০ টাকা জিততে চান? এখনই অংশগ্রহণ করুন!     1\n",
       "2598  spam  মোবাইল অ্যাপ ডাউনলোড করুন এবং ৫০০ টাকা বোনাস পান!     1\n",
       "2599  spam    নতুন গ্রাহকদের জন্য বিশেষ অফার, আজই উপভোগ করুন!     1\n",
       "2600  spam  আপনার অ্যাকাউন্ট আপগ্রেড করুন এবং এক্সক্লুসিভ ...     1\n",
       "2601  spam  বিশেষ ছাড়! ২৪ ঘন্টার মধ্যে অর্ডার করুন এবং ৩০...     1\n",
       "\n",
       "[2577 rows x 3 columns]"
      ]
     },
     "execution_count": 14,
     "metadata": {},
     "output_type": "execute_result"
    }
   ],
   "source": [
    "df"
   ]
  },
  {
   "cell_type": "code",
   "execution_count": 15,
   "id": "c8e9a10a-68ab-4c5d-9bcd-e6a51806a78f",
   "metadata": {},
   "outputs": [
    {
     "data": {
      "text/plain": [
       "spam\n",
       "1    1399\n",
       "0    1178\n",
       "Name: count, dtype: int64"
      ]
     },
     "execution_count": 15,
     "metadata": {},
     "output_type": "execute_result"
    }
   ],
   "source": [
    "#after droping duplicate values, new values\n",
    "df['spam'].value_counts()"
   ]
  },
  {
   "cell_type": "code",
   "execution_count": 17,
   "id": "3394abce-e52f-4080-8fdd-7783e76e51f0",
   "metadata": {},
   "outputs": [
    {
     "data": {
      "text/plain": [
       "type    0\n",
       "text    0\n",
       "spam    0\n",
       "dtype: int64"
      ]
     },
     "execution_count": 17,
     "metadata": {},
     "output_type": "execute_result"
    }
   ],
   "source": [
    "#find and count if any null value exists\n",
    "df.isnull().sum()"
   ]
  },
  {
   "cell_type": "code",
   "execution_count": null,
   "id": "adbc001c-22b6-48ac-b004-85e05384d745",
   "metadata": {},
   "outputs": [],
   "source": []
  }
 ],
 "metadata": {
  "kernelspec": {
   "display_name": "Python 3 (ipykernel)",
   "language": "python",
   "name": "python3"
  },
  "language_info": {
   "codemirror_mode": {
    "name": "ipython",
    "version": 3
   },
   "file_extension": ".py",
   "mimetype": "text/x-python",
   "name": "python",
   "nbconvert_exporter": "python",
   "pygments_lexer": "ipython3",
   "version": "3.13.2"
  }
 },
 "nbformat": 4,
 "nbformat_minor": 5
}
