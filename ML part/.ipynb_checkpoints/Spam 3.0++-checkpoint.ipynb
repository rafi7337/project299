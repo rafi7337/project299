{
 "cells": [
  {
   "cell_type": "code",
   "execution_count": 6,
   "id": "05a2cee0-e4f6-4473-9e0f-19c5d94ca964",
   "metadata": {},
   "outputs": [],
   "source": [
    "#importing all the libraries\n",
    "import pandas as pd\n",
    "import numpy as np\n",
    "import seaborn as sns\n"
   ]
  },
  {
   "cell_type": "code",
   "execution_count": 7,
   "id": "38b591b3-a051-434c-abae-9dc14fc80b39",
   "metadata": {},
   "outputs": [],
   "source": [
    "df=pd.read_csv(r'D:\\CSE Code\\Jupyter Notebook\\bangla_spam.csv');"
   ]
  },
  {
   "cell_type": "code",
   "execution_count": 8,
   "id": "28c7c600-56b0-471d-bd33-db04c34f2ad0",
   "metadata": {},
   "outputs": [
    {
     "data": {
      "text/html": [
       "<div>\n",
       "<style scoped>\n",
       "    .dataframe tbody tr th:only-of-type {\n",
       "        vertical-align: middle;\n",
       "    }\n",
       "\n",
       "    .dataframe tbody tr th {\n",
       "        vertical-align: top;\n",
       "    }\n",
       "\n",
       "    .dataframe thead th {\n",
       "        text-align: right;\n",
       "    }\n",
       "</style>\n",
       "<table border=\"1\" class=\"dataframe\">\n",
       "  <thead>\n",
       "    <tr style=\"text-align: right;\">\n",
       "      <th></th>\n",
       "      <th>type</th>\n",
       "      <th>text</th>\n",
       "    </tr>\n",
       "  </thead>\n",
       "  <tbody>\n",
       "    <tr>\n",
       "      <th>1843</th>\n",
       "      <td>spam</td>\n",
       "      <td>আজই শেষ দিন! ৩৫জিবি+৮০০মিনিট-৬০০টাকা-৩০দিন(বোন...</td>\n",
       "    </tr>\n",
       "    <tr>\n",
       "      <th>545</th>\n",
       "      <td>ham</td>\n",
       "      <td>২৩-২৯ মে ২০২৪ জাতীয় কৃমি নিয়ন্ত্রণ সপ্তাহে ৫-১...</td>\n",
       "    </tr>\n",
       "    <tr>\n",
       "      <th>1961</th>\n",
       "      <td>ham</td>\n",
       "      <td>অামিতো সরিষাটা অর্ডার দিছি।</td>\n",
       "    </tr>\n",
       "    <tr>\n",
       "      <th>2231</th>\n",
       "      <td>spam</td>\n",
       "      <td>মূল্যছাড়ে\\nশাক-সবজি\\nমাছ-মাংস\\nচাল-ডাল\\nডিম-তে...</td>\n",
       "    </tr>\n",
       "    <tr>\n",
       "      <th>1687</th>\n",
       "      <td>ham</td>\n",
       "      <td>আপনার প্রেমিকাকে পটানোর টিপস আমরা প্রোভাইড করবো</td>\n",
       "    </tr>\n",
       "  </tbody>\n",
       "</table>\n",
       "</div>"
      ],
      "text/plain": [
       "      type                                               text\n",
       "1843  spam  আজই শেষ দিন! ৩৫জিবি+৮০০মিনিট-৬০০টাকা-৩০দিন(বোন...\n",
       "545    ham  ২৩-২৯ মে ২০২৪ জাতীয় কৃমি নিয়ন্ত্রণ সপ্তাহে ৫-১...\n",
       "1961   ham                        অামিতো সরিষাটা অর্ডার দিছি।\n",
       "2231  spam  মূল্যছাড়ে\\nশাক-সবজি\\nমাছ-মাংস\\nচাল-ডাল\\nডিম-তে...\n",
       "1687   ham    আপনার প্রেমিকাকে পটানোর টিপস আমরা প্রোভাইড করবো"
      ]
     },
     "execution_count": 8,
     "metadata": {},
     "output_type": "execute_result"
    }
   ],
   "source": [
    "df.sample(5)"
   ]
  },
  {
   "cell_type": "code",
   "execution_count": 9,
   "id": "18fffa14-247c-4a93-9063-97c1e610603c",
   "metadata": {},
   "outputs": [
    {
     "data": {
      "text/plain": [
       "(2602, 2)"
      ]
     },
     "execution_count": 9,
     "metadata": {},
     "output_type": "execute_result"
    }
   ],
   "source": [
    "df.shape\n"
   ]
  },
  {
   "cell_type": "markdown",
   "id": "2e0fa7bd-d8b8-49fa-8e94-4357e18f8541",
   "metadata": {},
   "source": [
    "## Data Cleaning"
   ]
  },
  {
   "cell_type": "code",
   "execution_count": 10,
   "id": "930acfb6-6059-4d8e-b954-7156e7116f69",
   "metadata": {},
   "outputs": [
    {
     "name": "stdout",
     "output_type": "stream",
     "text": [
      "<class 'pandas.core.frame.DataFrame'>\n",
      "RangeIndex: 2602 entries, 0 to 2601\n",
      "Data columns (total 2 columns):\n",
      " #   Column  Non-Null Count  Dtype \n",
      "---  ------  --------------  ----- \n",
      " 0   type    2602 non-null   object\n",
      " 1   text    2602 non-null   object\n",
      "dtypes: object(2)\n",
      "memory usage: 40.8+ KB\n"
     ]
    }
   ],
   "source": [
    "#to show the information\n",
    "df.info()\n"
   ]
  },
  {
   "cell_type": "code",
   "execution_count": 11,
   "id": "d712bb30-7c5e-4551-aa9a-2fb869b72a1d",
   "metadata": {},
   "outputs": [],
   "source": [
    "#chnaging column name type to target\n",
    "df.rename(columns={'type': 'target'}, inplace=True)"
   ]
  },
  {
   "cell_type": "code",
   "execution_count": 12,
   "id": "5fc05693-2420-4594-b349-37f122446353",
   "metadata": {},
   "outputs": [
    {
     "name": "stdout",
     "output_type": "stream",
     "text": [
      "   target                                               text\n",
      "0       1  এই মেসেজটি শেয়ার করুন এবং জিতে নিন আকর্ষণীয় ...\n",
      "1       1  আপনার বন্ধুদের রেফার করুন এবং প্রতি রেফারেলে ২...\n",
      "2       0  ট্রানজ্যাকশন নম্বর R234321.1554.640085 20 টাকা...\n",
      "3       1  নতুন অফার! সীমিত সময়ের জন্য পণ্যের উপর ৯০% পর...\n",
      "4       0  নববর্ষের শুভেচ্ছা!! আল্লাহ আপনার সকল কষ্ট দূর ...\n"
     ]
    }
   ],
   "source": [
    "from sklearn.preprocessing import LabelEncoder\n",
    "\n",
    "# Initialize the LabelEncoder\n",
    "encoder = LabelEncoder()\n",
    "\n",
    "# Fit and transform the 'target' column\n",
    "df['target'] = encoder.fit_transform(df['target'])\n",
    "\n",
    "# Display the updated DataFrame\n",
    "print(df.head())"
   ]
  },
  {
   "cell_type": "code",
   "execution_count": 13,
   "id": "3f8ef62d-830a-4579-a795-79b0aec6ddfd",
   "metadata": {},
   "outputs": [
    {
     "data": {
      "text/plain": [
       "array([1, 1, 0, ..., 1, 1, 1], shape=(2602,))"
      ]
     },
     "execution_count": 13,
     "metadata": {},
     "output_type": "execute_result"
    }
   ],
   "source": [
    "encoder.fit_transform(df['target'])"
   ]
  },
  {
   "cell_type": "code",
   "execution_count": 14,
   "id": "f47d5692-1a37-463a-a622-93dd5d2b696e",
   "metadata": {},
   "outputs": [],
   "source": [
    "df['target']=encoder.fit_transform(df['target'])"
   ]
  },
  {
   "cell_type": "code",
   "execution_count": 15,
   "id": "a15823ce-0be1-4b96-aedb-eec9db8a7212",
   "metadata": {},
   "outputs": [],
   "source": [
    "from sklearn.preprocessing import LabelEncoder\n",
    "\n",
    "encoder = LabelEncoder()"
   ]
  },
  {
   "cell_type": "code",
   "execution_count": 16,
   "id": "32b62576-79db-458f-99c8-7a2dc860d7d2",
   "metadata": {},
   "outputs": [
    {
     "data": {
      "text/html": [
       "<div>\n",
       "<style scoped>\n",
       "    .dataframe tbody tr th:only-of-type {\n",
       "        vertical-align: middle;\n",
       "    }\n",
       "\n",
       "    .dataframe tbody tr th {\n",
       "        vertical-align: top;\n",
       "    }\n",
       "\n",
       "    .dataframe thead th {\n",
       "        text-align: right;\n",
       "    }\n",
       "</style>\n",
       "<table border=\"1\" class=\"dataframe\">\n",
       "  <thead>\n",
       "    <tr style=\"text-align: right;\">\n",
       "      <th></th>\n",
       "      <th>target</th>\n",
       "      <th>text</th>\n",
       "    </tr>\n",
       "  </thead>\n",
       "  <tbody>\n",
       "    <tr>\n",
       "      <th>0</th>\n",
       "      <td>1</td>\n",
       "      <td>এই মেসেজটি শেয়ার করুন এবং জিতে নিন আকর্ষণীয় ...</td>\n",
       "    </tr>\n",
       "    <tr>\n",
       "      <th>1</th>\n",
       "      <td>1</td>\n",
       "      <td>আপনার বন্ধুদের রেফার করুন এবং প্রতি রেফারেলে ২...</td>\n",
       "    </tr>\n",
       "    <tr>\n",
       "      <th>2</th>\n",
       "      <td>0</td>\n",
       "      <td>ট্রানজ্যাকশন নম্বর R234321.1554.640085 20 টাকা...</td>\n",
       "    </tr>\n",
       "    <tr>\n",
       "      <th>3</th>\n",
       "      <td>1</td>\n",
       "      <td>নতুন অফার! সীমিত সময়ের জন্য পণ্যের উপর ৯০% পর...</td>\n",
       "    </tr>\n",
       "    <tr>\n",
       "      <th>4</th>\n",
       "      <td>0</td>\n",
       "      <td>নববর্ষের শুভেচ্ছা!! আল্লাহ আপনার সকল কষ্ট দূর ...</td>\n",
       "    </tr>\n",
       "  </tbody>\n",
       "</table>\n",
       "</div>"
      ],
      "text/plain": [
       "   target                                               text\n",
       "0       1  এই মেসেজটি শেয়ার করুন এবং জিতে নিন আকর্ষণীয় ...\n",
       "1       1  আপনার বন্ধুদের রেফার করুন এবং প্রতি রেফারেলে ২...\n",
       "2       0  ট্রানজ্যাকশন নম্বর R234321.1554.640085 20 টাকা...\n",
       "3       1  নতুন অফার! সীমিত সময়ের জন্য পণ্যের উপর ৯০% পর...\n",
       "4       0  নববর্ষের শুভেচ্ছা!! আল্লাহ আপনার সকল কষ্ট দূর ..."
      ]
     },
     "execution_count": 16,
     "metadata": {},
     "output_type": "execute_result"
    }
   ],
   "source": [
    "df.head()"
   ]
  },
  {
   "cell_type": "code",
   "execution_count": 17,
   "id": "46f40c28-9635-4237-bfa0-f6af204937b5",
   "metadata": {},
   "outputs": [
    {
     "data": {
      "text/plain": [
       "target    0\n",
       "text      0\n",
       "dtype: int64"
      ]
     },
     "execution_count": 17,
     "metadata": {},
     "output_type": "execute_result"
    }
   ],
   "source": [
    "#missing values check\n",
    "df.isnull().sum()"
   ]
  },
  {
   "cell_type": "code",
   "execution_count": 18,
   "id": "c6ac37cf-52e1-4fe3-a48c-45c4eda046fb",
   "metadata": {},
   "outputs": [
    {
     "data": {
      "text/plain": [
       "np.int64(25)"
      ]
     },
     "execution_count": 18,
     "metadata": {},
     "output_type": "execute_result"
    }
   ],
   "source": [
    "#checking duplicate values\n",
    "df.duplicated().sum()"
   ]
  },
  {
   "cell_type": "code",
   "execution_count": 19,
   "id": "5385117d-571f-4a94-8384-5421716cbfcb",
   "metadata": {},
   "outputs": [],
   "source": [
    "#removing duplicat values\n",
    "df=df.drop_duplicates(keep='first')"
   ]
  },
  {
   "cell_type": "code",
   "execution_count": 20,
   "id": "f95a545e-7514-47b9-9976-202c3c5874e6",
   "metadata": {},
   "outputs": [
    {
     "data": {
      "text/plain": [
       "np.int64(0)"
      ]
     },
     "execution_count": 20,
     "metadata": {},
     "output_type": "execute_result"
    }
   ],
   "source": [
    "#checking duplicate values\n",
    "df.duplicated().sum()"
   ]
  },
  {
   "cell_type": "code",
   "execution_count": 21,
   "id": "6227aa97-c4a4-4e73-8bd0-6792ea5c5ef9",
   "metadata": {},
   "outputs": [
    {
     "data": {
      "text/plain": [
       "(2577, 2)"
      ]
     },
     "execution_count": 21,
     "metadata": {},
     "output_type": "execute_result"
    }
   ],
   "source": [
    "df.shape"
   ]
  },
  {
   "cell_type": "markdown",
   "id": "9283eb51-d3a9-4965-81f5-0224c16a01fa",
   "metadata": {},
   "source": [
    "## EDA (Exploratory Data Analysis)\n"
   ]
  },
  {
   "cell_type": "code",
   "execution_count": 22,
   "id": "db562fb5-6b12-4db5-add4-5f89b0680dac",
   "metadata": {},
   "outputs": [
    {
     "data": {
      "text/html": [
       "<div>\n",
       "<style scoped>\n",
       "    .dataframe tbody tr th:only-of-type {\n",
       "        vertical-align: middle;\n",
       "    }\n",
       "\n",
       "    .dataframe tbody tr th {\n",
       "        vertical-align: top;\n",
       "    }\n",
       "\n",
       "    .dataframe thead th {\n",
       "        text-align: right;\n",
       "    }\n",
       "</style>\n",
       "<table border=\"1\" class=\"dataframe\">\n",
       "  <thead>\n",
       "    <tr style=\"text-align: right;\">\n",
       "      <th></th>\n",
       "      <th>target</th>\n",
       "      <th>text</th>\n",
       "    </tr>\n",
       "  </thead>\n",
       "  <tbody>\n",
       "    <tr>\n",
       "      <th>0</th>\n",
       "      <td>1</td>\n",
       "      <td>এই মেসেজটি শেয়ার করুন এবং জিতে নিন আকর্ষণীয় ...</td>\n",
       "    </tr>\n",
       "    <tr>\n",
       "      <th>1</th>\n",
       "      <td>1</td>\n",
       "      <td>আপনার বন্ধুদের রেফার করুন এবং প্রতি রেফারেলে ২...</td>\n",
       "    </tr>\n",
       "    <tr>\n",
       "      <th>2</th>\n",
       "      <td>0</td>\n",
       "      <td>ট্রানজ্যাকশন নম্বর R234321.1554.640085 20 টাকা...</td>\n",
       "    </tr>\n",
       "    <tr>\n",
       "      <th>3</th>\n",
       "      <td>1</td>\n",
       "      <td>নতুন অফার! সীমিত সময়ের জন্য পণ্যের উপর ৯০% পর...</td>\n",
       "    </tr>\n",
       "    <tr>\n",
       "      <th>4</th>\n",
       "      <td>0</td>\n",
       "      <td>নববর্ষের শুভেচ্ছা!! আল্লাহ আপনার সকল কষ্ট দূর ...</td>\n",
       "    </tr>\n",
       "  </tbody>\n",
       "</table>\n",
       "</div>"
      ],
      "text/plain": [
       "   target                                               text\n",
       "0       1  এই মেসেজটি শেয়ার করুন এবং জিতে নিন আকর্ষণীয় ...\n",
       "1       1  আপনার বন্ধুদের রেফার করুন এবং প্রতি রেফারেলে ২...\n",
       "2       0  ট্রানজ্যাকশন নম্বর R234321.1554.640085 20 টাকা...\n",
       "3       1  নতুন অফার! সীমিত সময়ের জন্য পণ্যের উপর ৯০% পর...\n",
       "4       0  নববর্ষের শুভেচ্ছা!! আল্লাহ আপনার সকল কষ্ট দূর ..."
      ]
     },
     "execution_count": 22,
     "metadata": {},
     "output_type": "execute_result"
    }
   ],
   "source": [
    "df.head()"
   ]
  },
  {
   "cell_type": "code",
   "execution_count": 23,
   "id": "65b12f6a-68f0-44ad-a550-3d4bde64015b",
   "metadata": {},
   "outputs": [
    {
     "data": {
      "text/plain": [
       "target\n",
       "1    1399\n",
       "0    1178\n",
       "Name: count, dtype: int64"
      ]
     },
     "execution_count": 23,
     "metadata": {},
     "output_type": "execute_result"
    }
   ],
   "source": [
    "#amount of spam and ham\n",
    "df['target'].value_counts()"
   ]
  },
  {
   "cell_type": "code",
   "execution_count": 24,
   "id": "7da4cf5d-c2c4-4cf0-8b58-766148bca322",
   "metadata": {},
   "outputs": [
    {
     "data": {
      "image/png": "[encoded data removed]",
      "text/plain": [
       "<Figure size 640x480 with 1 Axes>"
      ]
     },
     "metadata": {},
     "output_type": "display_data"
    }
   ],
   "source": [
    "#spam and ham amount graph\n",
    "import matplotlib.pyplot as plt\n",
    "plt.pie(df['target'].value_counts(), labels=['ham','spam'],autopct=\"%0.2f\")\n",
    "plt.show()"
   ]
  },
  {
   "cell_type": "code",
   "execution_count": 25,
   "id": "e99bf4ba-7350-41a7-83f4-21def66b54c4",
   "metadata": {},
   "outputs": [
    {
     "name": "stdout",
     "output_type": "stream",
     "text": [
      "Requirement already satisfied: nltk in c:\\users\\shahr\\appdata\\local\\programs\\python\\python313\\lib\\site-packages (3.9.1)\n",
      "Requirement already satisfied: click in c:\\users\\shahr\\appdata\\local\\programs\\python\\python313\\lib\\site-packages (from nltk) (8.1.8)\n",
      "Requirement already satisfied: joblib in c:\\users\\shahr\\appdata\\local\\programs\\python\\python313\\lib\\site-packages (from nltk) (1.4.2)\n",
      "Requirement already satisfied: regex>=2021.8.3 in c:\\users\\shahr\\appdata\\local\\programs\\python\\python313\\lib\\site-packages (from nltk) (2024.11.6)\n",
      "Requirement already satisfied: tqdm in c:\\users\\shahr\\appdata\\local\\programs\\python\\python313\\lib\\site-packages (from nltk) (4.67.1)\n",
      "Requirement already satisfied: colorama in c:\\users\\shahr\\appdata\\local\\programs\\python\\python313\\lib\\site-packages (from click->nltk) (0.4.6)\n"
     ]
    }
   ],
   "source": [
    "#installing and importing 'Natural Language Toolkit'\n",
    "!pip install nltk\n",
    "import nltk"
   ]
  },
  {
   "cell_type": "code",
   "execution_count": 26,
   "id": "01bf4a52-b0dd-4460-9484-37ffb7b802ad",
   "metadata": {},
   "outputs": [
    {
     "name": "stderr",
     "output_type": "stream",
     "text": [
      "[nltk_data] Downloading package punkt to\n",
      "[nltk_data]     C:\\Users\\shahr\\AppData\\Roaming\\nltk_data...\n",
      "[nltk_data]   Package punkt is already up-to-date!\n"
     ]
    },
    {
     "data": {
      "text/plain": [
       "True"
      ]
     },
     "execution_count": 26,
     "metadata": {},
     "output_type": "execute_result"
    }
   ],
   "source": [
    "nltk.download('punkt')"
   ]
  },
  {
   "cell_type": "code",
   "execution_count": 27,
   "id": "99cb6c67-e22f-4769-a7c7-07620eb473b2",
   "metadata": {},
   "outputs": [
    {
     "data": {
      "text/plain": [
       "0        55\n",
       "1        60\n",
       "2       131\n",
       "3        57\n",
       "4        75\n",
       "       ... \n",
       "2597     48\n",
       "2598     49\n",
       "2599     47\n",
       "2600     57\n",
       "2601     62\n",
       "Name: text, Length: 2577, dtype: int64"
      ]
     },
     "execution_count": 27,
     "metadata": {},
     "output_type": "execute_result"
    }
   ],
   "source": [
    "#number of charecters in a msg\n",
    "df['text'].apply(len)"
   ]
  },
  {
   "cell_type": "code",
   "execution_count": 28,
   "id": "8d482eb5-0134-4b8a-aa03-ae6458b5c26c",
   "metadata": {},
   "outputs": [],
   "source": [
    "df.loc[:, 'num_characters'] = df['text'].apply(len)\n",
    "df = df.copy()\n",
    "df['num_characters'] = df['text'].apply(len)"
   ]
  },
  {
   "cell_type": "code",
   "execution_count": 29,
   "id": "7dc0a98b-9d9d-4431-8f47-7cad28d3b53a",
   "metadata": {},
   "outputs": [
    {
     "data": {
      "text/html": [
       "<div>\n",
       "<style scoped>\n",
       "    .dataframe tbody tr th:only-of-type {\n",
       "        vertical-align: middle;\n",
       "    }\n",
       "\n",
       "    .dataframe tbody tr th {\n",
       "        vertical-align: top;\n",
       "    }\n",
       "\n",
       "    .dataframe thead th {\n",
       "        text-align: right;\n",
       "    }\n",
       "</style>\n",
       "<table border=\"1\" class=\"dataframe\">\n",
       "  <thead>\n",
       "    <tr style=\"text-align: right;\">\n",
       "      <th></th>\n",
       "      <th>target</th>\n",
       "      <th>text</th>\n",
       "      <th>num_characters</th>\n",
       "    </tr>\n",
       "  </thead>\n",
       "  <tbody>\n",
       "    <tr>\n",
       "      <th>0</th>\n",
       "      <td>1</td>\n",
       "      <td>এই মেসেজটি শেয়ার করুন এবং জিতে নিন আকর্ষণীয় ...</td>\n",
       "      <td>55</td>\n",
       "    </tr>\n",
       "    <tr>\n",
       "      <th>1</th>\n",
       "      <td>1</td>\n",
       "      <td>আপনার বন্ধুদের রেফার করুন এবং প্রতি রেফারেলে ২...</td>\n",
       "      <td>60</td>\n",
       "    </tr>\n",
       "    <tr>\n",
       "      <th>2</th>\n",
       "      <td>0</td>\n",
       "      <td>ট্রানজ্যাকশন নম্বর R234321.1554.640085 20 টাকা...</td>\n",
       "      <td>131</td>\n",
       "    </tr>\n",
       "    <tr>\n",
       "      <th>3</th>\n",
       "      <td>1</td>\n",
       "      <td>নতুন অফার! সীমিত সময়ের জন্য পণ্যের উপর ৯০% পর...</td>\n",
       "      <td>57</td>\n",
       "    </tr>\n",
       "    <tr>\n",
       "      <th>4</th>\n",
       "      <td>0</td>\n",
       "      <td>নববর্ষের শুভেচ্ছা!! আল্লাহ আপনার সকল কষ্ট দূর ...</td>\n",
       "      <td>75</td>\n",
       "    </tr>\n",
       "  </tbody>\n",
       "</table>\n",
       "</div>"
      ],
      "text/plain": [
       "   target                                               text  num_characters\n",
       "0       1  এই মেসেজটি শেয়ার করুন এবং জিতে নিন আকর্ষণীয় ...              55\n",
       "1       1  আপনার বন্ধুদের রেফার করুন এবং প্রতি রেফারেলে ২...              60\n",
       "2       0  ট্রানজ্যাকশন নম্বর R234321.1554.640085 20 টাকা...             131\n",
       "3       1  নতুন অফার! সীমিত সময়ের জন্য পণ্যের উপর ৯০% পর...              57\n",
       "4       0  নববর্ষের শুভেচ্ছা!! আল্লাহ আপনার সকল কষ্ট দূর ...              75"
      ]
     },
     "execution_count": 29,
     "metadata": {},
     "output_type": "execute_result"
    }
   ],
   "source": [
    "df.head()"
   ]
  },
  {
   "cell_type": "code",
   "execution_count": 30,
   "id": "b22681ee-2fd5-4a50-8cf5-dc5dc8dc174f",
   "metadata": {},
   "outputs": [
    {
     "data": {
      "text/html": [
       "<div>\n",
       "<style scoped>\n",
       "    .dataframe tbody tr th:only-of-type {\n",
       "        vertical-align: middle;\n",
       "    }\n",
       "\n",
       "    .dataframe tbody tr th {\n",
       "        vertical-align: top;\n",
       "    }\n",
       "\n",
       "    .dataframe thead th {\n",
       "        text-align: right;\n",
       "    }\n",
       "</style>\n",
       "<table border=\"1\" class=\"dataframe\">\n",
       "  <thead>\n",
       "    <tr style=\"text-align: right;\">\n",
       "      <th></th>\n",
       "      <th>target</th>\n",
       "      <th>text</th>\n",
       "      <th>num_characters</th>\n",
       "    </tr>\n",
       "  </thead>\n",
       "  <tbody>\n",
       "    <tr>\n",
       "      <th>0</th>\n",
       "      <td>1</td>\n",
       "      <td>এই মেসেজটি শেয়ার করুন এবং জিতে নিন আকর্ষণীয় ...</td>\n",
       "      <td>55</td>\n",
       "    </tr>\n",
       "    <tr>\n",
       "      <th>1</th>\n",
       "      <td>1</td>\n",
       "      <td>আপনার বন্ধুদের রেফার করুন এবং প্রতি রেফারেলে ২...</td>\n",
       "      <td>60</td>\n",
       "    </tr>\n",
       "    <tr>\n",
       "      <th>2</th>\n",
       "      <td>0</td>\n",
       "      <td>ট্রানজ্যাকশন নম্বর R234321.1554.640085 20 টাকা...</td>\n",
       "      <td>131</td>\n",
       "    </tr>\n",
       "    <tr>\n",
       "      <th>3</th>\n",
       "      <td>1</td>\n",
       "      <td>নতুন অফার! সীমিত সময়ের জন্য পণ্যের উপর ৯০% পর...</td>\n",
       "      <td>57</td>\n",
       "    </tr>\n",
       "    <tr>\n",
       "      <th>4</th>\n",
       "      <td>0</td>\n",
       "      <td>নববর্ষের শুভেচ্ছা!! আল্লাহ আপনার সকল কষ্ট দূর ...</td>\n",
       "      <td>75</td>\n",
       "    </tr>\n",
       "  </tbody>\n",
       "</table>\n",
       "</div>"
      ],
      "text/plain": [
       "   target                                               text  num_characters\n",
       "0       1  এই মেসেজটি শেয়ার করুন এবং জিতে নিন আকর্ষণীয় ...              55\n",
       "1       1  আপনার বন্ধুদের রেফার করুন এবং প্রতি রেফারেলে ২...              60\n",
       "2       0  ট্রানজ্যাকশন নম্বর R234321.1554.640085 20 টাকা...             131\n",
       "3       1  নতুন অফার! সীমিত সময়ের জন্য পণ্যের উপর ৯০% পর...              57\n",
       "4       0  নববর্ষের শুভেচ্ছা!! আল্লাহ আপনার সকল কষ্ট দূর ...              75"
      ]
     },
     "execution_count": 30,
     "metadata": {},
     "output_type": "execute_result"
    }
   ],
   "source": [
    "df.head()"
   ]
  },
  {
   "cell_type": "code",
   "execution_count": 31,
   "id": "a3eb877b-bf2a-4930-8d3e-45cb9dc936a3",
   "metadata": {},
   "outputs": [
    {
     "name": "stderr",
     "output_type": "stream",
     "text": [
      "[nltk_data] Downloading package punkt to\n",
      "[nltk_data]     C:\\Users\\shahr\\AppData\\Roaming\\nltk_data...\n",
      "[nltk_data]   Package punkt is already up-to-date!\n"
     ]
    },
    {
     "data": {
      "text/plain": [
       "True"
      ]
     },
     "execution_count": 31,
     "metadata": {},
     "output_type": "execute_result"
    }
   ],
   "source": [
    "import nltk\n",
    "nltk.download('punkt') "
   ]
  },
  {
   "cell_type": "code",
   "execution_count": 32,
   "id": "b86193e5-f4ca-447e-bb09-1f1f6c5f7b83",
   "metadata": {},
   "outputs": [],
   "source": [
    "df.loc[:, 'num_characters'] = df['text'].apply(len)\n",
    "df = df.copy()\n",
    "df['num_characters'] = df['text'].apply(len)"
   ]
  },
  {
   "cell_type": "code",
   "execution_count": 33,
   "id": "7a195596-30ad-4a8c-8a21-77dc11601a93",
   "metadata": {},
   "outputs": [
    {
     "data": {
      "text/html": [
       "<div>\n",
       "<style scoped>\n",
       "    .dataframe tbody tr th:only-of-type {\n",
       "        vertical-align: middle;\n",
       "    }\n",
       "\n",
       "    .dataframe tbody tr th {\n",
       "        vertical-align: top;\n",
       "    }\n",
       "\n",
       "    .dataframe thead th {\n",
       "        text-align: right;\n",
       "    }\n",
       "</style>\n",
       "<table border=\"1\" class=\"dataframe\">\n",
       "  <thead>\n",
       "    <tr style=\"text-align: right;\">\n",
       "      <th></th>\n",
       "      <th>target</th>\n",
       "      <th>text</th>\n",
       "      <th>num_characters</th>\n",
       "    </tr>\n",
       "  </thead>\n",
       "  <tbody>\n",
       "    <tr>\n",
       "      <th>0</th>\n",
       "      <td>1</td>\n",
       "      <td>এই মেসেজটি শেয়ার করুন এবং জিতে নিন আকর্ষণীয় ...</td>\n",
       "      <td>55</td>\n",
       "    </tr>\n",
       "    <tr>\n",
       "      <th>1</th>\n",
       "      <td>1</td>\n",
       "      <td>আপনার বন্ধুদের রেফার করুন এবং প্রতি রেফারেলে ২...</td>\n",
       "      <td>60</td>\n",
       "    </tr>\n",
       "    <tr>\n",
       "      <th>2</th>\n",
       "      <td>0</td>\n",
       "      <td>ট্রানজ্যাকশন নম্বর R234321.1554.640085 20 টাকা...</td>\n",
       "      <td>131</td>\n",
       "    </tr>\n",
       "    <tr>\n",
       "      <th>3</th>\n",
       "      <td>1</td>\n",
       "      <td>নতুন অফার! সীমিত সময়ের জন্য পণ্যের উপর ৯০% পর...</td>\n",
       "      <td>57</td>\n",
       "    </tr>\n",
       "    <tr>\n",
       "      <th>4</th>\n",
       "      <td>0</td>\n",
       "      <td>নববর্ষের শুভেচ্ছা!! আল্লাহ আপনার সকল কষ্ট দূর ...</td>\n",
       "      <td>75</td>\n",
       "    </tr>\n",
       "  </tbody>\n",
       "</table>\n",
       "</div>"
      ],
      "text/plain": [
       "   target                                               text  num_characters\n",
       "0       1  এই মেসেজটি শেয়ার করুন এবং জিতে নিন আকর্ষণীয় ...              55\n",
       "1       1  আপনার বন্ধুদের রেফার করুন এবং প্রতি রেফারেলে ২...              60\n",
       "2       0  ট্রানজ্যাকশন নম্বর R234321.1554.640085 20 টাকা...             131\n",
       "3       1  নতুন অফার! সীমিত সময়ের জন্য পণ্যের উপর ৯০% পর...              57\n",
       "4       0  নববর্ষের শুভেচ্ছা!! আল্লাহ আপনার সকল কষ্ট দূর ...              75"
      ]
     },
     "execution_count": 33,
     "metadata": {},
     "output_type": "execute_result"
    }
   ],
   "source": [
    "df.head()"
   ]
  },
  {
   "cell_type": "code",
   "execution_count": 34,
   "id": "3c9e8a5e-295a-4ec6-9201-6a9272ca3133",
   "metadata": {},
   "outputs": [
    {
     "name": "stderr",
     "output_type": "stream",
     "text": [
      "[nltk_data] Downloading package punkt to\n",
      "[nltk_data]     C:\\Users\\shahr\\AppData\\Roaming\\nltk_data...\n",
      "[nltk_data]   Package punkt is already up-to-date!\n"
     ]
    },
    {
     "data": {
      "text/html": [
       "<div>\n",
       "<style scoped>\n",
       "    .dataframe tbody tr th:only-of-type {\n",
       "        vertical-align: middle;\n",
       "    }\n",
       "\n",
       "    .dataframe tbody tr th {\n",
       "        vertical-align: top;\n",
       "    }\n",
       "\n",
       "    .dataframe thead th {\n",
       "        text-align: right;\n",
       "    }\n",
       "</style>\n",
       "<table border=\"1\" class=\"dataframe\">\n",
       "  <thead>\n",
       "    <tr style=\"text-align: right;\">\n",
       "      <th></th>\n",
       "      <th>target</th>\n",
       "      <th>text</th>\n",
       "      <th>num_characters</th>\n",
       "      <th>num_words</th>\n",
       "      <th>num_sentences</th>\n",
       "    </tr>\n",
       "  </thead>\n",
       "  <tbody>\n",
       "    <tr>\n",
       "      <th>0</th>\n",
       "      <td>1</td>\n",
       "      <td>এই মেসেজটি শেয়ার করুন এবং জিতে নিন আকর্ষণীয় ...</td>\n",
       "      <td>55</td>\n",
       "      <td>10</td>\n",
       "      <td>1</td>\n",
       "    </tr>\n",
       "    <tr>\n",
       "      <th>1</th>\n",
       "      <td>1</td>\n",
       "      <td>আপনার বন্ধুদের রেফার করুন এবং প্রতি রেফারেলে ২...</td>\n",
       "      <td>60</td>\n",
       "      <td>11</td>\n",
       "      <td>1</td>\n",
       "    </tr>\n",
       "    <tr>\n",
       "      <th>2</th>\n",
       "      <td>0</td>\n",
       "      <td>ট্রানজ্যাকশন নম্বর R234321.1554.640085 20 টাকা...</td>\n",
       "      <td>131</td>\n",
       "      <td>16</td>\n",
       "      <td>1</td>\n",
       "    </tr>\n",
       "    <tr>\n",
       "      <th>3</th>\n",
       "      <td>1</td>\n",
       "      <td>নতুন অফার! সীমিত সময়ের জন্য পণ্যের উপর ৯০% পর...</td>\n",
       "      <td>57</td>\n",
       "      <td>13</td>\n",
       "      <td>2</td>\n",
       "    </tr>\n",
       "    <tr>\n",
       "      <th>4</th>\n",
       "      <td>0</td>\n",
       "      <td>নববর্ষের শুভেচ্ছা!! আল্লাহ আপনার সকল কষ্ট দূর ...</td>\n",
       "      <td>75</td>\n",
       "      <td>14</td>\n",
       "      <td>2</td>\n",
       "    </tr>\n",
       "  </tbody>\n",
       "</table>\n",
       "</div>"
      ],
      "text/plain": [
       "   target                                               text  num_characters  \\\n",
       "0       1  এই মেসেজটি শেয়ার করুন এবং জিতে নিন আকর্ষণীয় ...              55   \n",
       "1       1  আপনার বন্ধুদের রেফার করুন এবং প্রতি রেফারেলে ২...              60   \n",
       "2       0  ট্রানজ্যাকশন নম্বর R234321.1554.640085 20 টাকা...             131   \n",
       "3       1  নতুন অফার! সীমিত সময়ের জন্য পণ্যের উপর ৯০% পর...              57   \n",
       "4       0  নববর্ষের শুভেচ্ছা!! আল্লাহ আপনার সকল কষ্ট দূর ...              75   \n",
       "\n",
       "   num_words  num_sentences  \n",
       "0         10              1  \n",
       "1         11              1  \n",
       "2         16              1  \n",
       "3         13              2  \n",
       "4         14              2  "
      ]
     },
     "execution_count": 34,
     "metadata": {},
     "output_type": "execute_result"
    }
   ],
   "source": [
    "#adding 2 more columns as num_words and num_sentences to store word numbers and sentence number\n",
    "import nltk\n",
    "from nltk.tokenize import word_tokenize, sent_tokenize\n",
    "\n",
    "# Ensure the necessary NLTK data is downloaded\n",
    "nltk.download('punkt')\n",
    "\n",
    "# Add num_words column\n",
    "df['num_words'] = df['text'].apply(lambda x: len(word_tokenize(x)))\n",
    "\n",
    "# Add num_sentences column\n",
    "df['num_sentences'] = df['text'].apply(lambda x: len(sent_tokenize(x)))\n",
    "\n",
    "# Display the updated DataFrame\n",
    "df.head()"
   ]
  },
  {
   "cell_type": "code",
   "execution_count": 35,
   "id": "48d6b47d-7712-4d8b-aea2-fb21cd525a5e",
   "metadata": {},
   "outputs": [
    {
     "data": {
      "text/plain": [
       "<bound method NDFrame.describe of       num_characters  num_words  num_sentences\n",
       "0                 55         10              1\n",
       "1                 60         11              1\n",
       "2                131         16              1\n",
       "3                 57         13              2\n",
       "4                 75         14              2\n",
       "...              ...        ...            ...\n",
       "2597              48         10              2\n",
       "2598              49         10              1\n",
       "2599              47         10              1\n",
       "2600              57          9              1\n",
       "2601              62         14              2\n",
       "\n",
       "[2577 rows x 3 columns]>"
      ]
     },
     "execution_count": 35,
     "metadata": {},
     "output_type": "execute_result"
    }
   ],
   "source": [
    "#discribtion of num_characters,num_words,num_sentences\n",
    "df[['num_characters','num_words','num_sentences']].describe"
   ]
  },
  {
   "cell_type": "code",
   "execution_count": 36,
   "id": "e651e531-756c-4340-b189-aa2920c7915f",
   "metadata": {},
   "outputs": [
    {
     "data": {
      "text/html": [
       "<div>\n",
       "<style scoped>\n",
       "    .dataframe tbody tr th:only-of-type {\n",
       "        vertical-align: middle;\n",
       "    }\n",
       "\n",
       "    .dataframe tbody tr th {\n",
       "        vertical-align: top;\n",
       "    }\n",
       "\n",
       "    .dataframe thead th {\n",
       "        text-align: right;\n",
       "    }\n",
       "</style>\n",
       "<table border=\"1\" class=\"dataframe\">\n",
       "  <thead>\n",
       "    <tr style=\"text-align: right;\">\n",
       "      <th></th>\n",
       "      <th>num_characters</th>\n",
       "      <th>num_words</th>\n",
       "      <th>num_sentences</th>\n",
       "    </tr>\n",
       "  </thead>\n",
       "  <tbody>\n",
       "    <tr>\n",
       "      <th>count</th>\n",
       "      <td>1178.000000</td>\n",
       "      <td>1178.000000</td>\n",
       "      <td>1178.000000</td>\n",
       "    </tr>\n",
       "    <tr>\n",
       "      <th>mean</th>\n",
       "      <td>100.187606</td>\n",
       "      <td>16.627334</td>\n",
       "      <td>1.085739</td>\n",
       "    </tr>\n",
       "    <tr>\n",
       "      <th>std</th>\n",
       "      <td>82.091602</td>\n",
       "      <td>14.524330</td>\n",
       "      <td>0.369091</td>\n",
       "    </tr>\n",
       "    <tr>\n",
       "      <th>min</th>\n",
       "      <td>6.000000</td>\n",
       "      <td>1.000000</td>\n",
       "      <td>1.000000</td>\n",
       "    </tr>\n",
       "    <tr>\n",
       "      <th>25%</th>\n",
       "      <td>42.250000</td>\n",
       "      <td>8.000000</td>\n",
       "      <td>1.000000</td>\n",
       "    </tr>\n",
       "    <tr>\n",
       "      <th>50%</th>\n",
       "      <td>93.000000</td>\n",
       "      <td>16.000000</td>\n",
       "      <td>1.000000</td>\n",
       "    </tr>\n",
       "    <tr>\n",
       "      <th>75%</th>\n",
       "      <td>138.750000</td>\n",
       "      <td>23.000000</td>\n",
       "      <td>1.000000</td>\n",
       "    </tr>\n",
       "    <tr>\n",
       "      <th>max</th>\n",
       "      <td>1357.000000</td>\n",
       "      <td>261.000000</td>\n",
       "      <td>6.000000</td>\n",
       "    </tr>\n",
       "  </tbody>\n",
       "</table>\n",
       "</div>"
      ],
      "text/plain": [
       "       num_characters    num_words  num_sentences\n",
       "count     1178.000000  1178.000000    1178.000000\n",
       "mean       100.187606    16.627334       1.085739\n",
       "std         82.091602    14.524330       0.369091\n",
       "min          6.000000     1.000000       1.000000\n",
       "25%         42.250000     8.000000       1.000000\n",
       "50%         93.000000    16.000000       1.000000\n",
       "75%        138.750000    23.000000       1.000000\n",
       "max       1357.000000   261.000000       6.000000"
      ]
     },
     "execution_count": 36,
     "metadata": {},
     "output_type": "execute_result"
    }
   ],
   "source": [
    "#describtion for ham sms\n",
    "df[df['target']==0][['num_characters','num_words', 'num_sentences']].describe()"
   ]
  },
  {
   "cell_type": "code",
   "execution_count": 37,
   "id": "2ca323f7-9c1b-4684-bdfe-645c7b0f7b70",
   "metadata": {},
   "outputs": [
    {
     "data": {
      "text/html": [
       "<div>\n",
       "<style scoped>\n",
       "    .dataframe tbody tr th:only-of-type {\n",
       "        vertical-align: middle;\n",
       "    }\n",
       "\n",
       "    .dataframe tbody tr th {\n",
       "        vertical-align: top;\n",
       "    }\n",
       "\n",
       "    .dataframe thead th {\n",
       "        text-align: right;\n",
       "    }\n",
       "</style>\n",
       "<table border=\"1\" class=\"dataframe\">\n",
       "  <thead>\n",
       "    <tr style=\"text-align: right;\">\n",
       "      <th></th>\n",
       "      <th>num_characters</th>\n",
       "      <th>num_words</th>\n",
       "      <th>num_sentences</th>\n",
       "    </tr>\n",
       "  </thead>\n",
       "  <tbody>\n",
       "    <tr>\n",
       "      <th>count</th>\n",
       "      <td>1399.000000</td>\n",
       "      <td>1399.000000</td>\n",
       "      <td>1399.000000</td>\n",
       "    </tr>\n",
       "    <tr>\n",
       "      <th>mean</th>\n",
       "      <td>82.793424</td>\n",
       "      <td>14.705504</td>\n",
       "      <td>1.370264</td>\n",
       "    </tr>\n",
       "    <tr>\n",
       "      <th>std</th>\n",
       "      <td>87.943014</td>\n",
       "      <td>16.993786</td>\n",
       "      <td>0.897542</td>\n",
       "    </tr>\n",
       "    <tr>\n",
       "      <th>min</th>\n",
       "      <td>6.000000</td>\n",
       "      <td>1.000000</td>\n",
       "      <td>1.000000</td>\n",
       "    </tr>\n",
       "    <tr>\n",
       "      <th>25%</th>\n",
       "      <td>45.500000</td>\n",
       "      <td>9.000000</td>\n",
       "      <td>1.000000</td>\n",
       "    </tr>\n",
       "    <tr>\n",
       "      <th>50%</th>\n",
       "      <td>68.000000</td>\n",
       "      <td>11.000000</td>\n",
       "      <td>1.000000</td>\n",
       "    </tr>\n",
       "    <tr>\n",
       "      <th>75%</th>\n",
       "      <td>101.000000</td>\n",
       "      <td>17.000000</td>\n",
       "      <td>2.000000</td>\n",
       "    </tr>\n",
       "    <tr>\n",
       "      <th>max</th>\n",
       "      <td>1911.000000</td>\n",
       "      <td>389.000000</td>\n",
       "      <td>27.000000</td>\n",
       "    </tr>\n",
       "  </tbody>\n",
       "</table>\n",
       "</div>"
      ],
      "text/plain": [
       "       num_characters    num_words  num_sentences\n",
       "count     1399.000000  1399.000000    1399.000000\n",
       "mean        82.793424    14.705504       1.370264\n",
       "std         87.943014    16.993786       0.897542\n",
       "min          6.000000     1.000000       1.000000\n",
       "25%         45.500000     9.000000       1.000000\n",
       "50%         68.000000    11.000000       1.000000\n",
       "75%        101.000000    17.000000       2.000000\n",
       "max       1911.000000   389.000000      27.000000"
      ]
     },
     "execution_count": 37,
     "metadata": {},
     "output_type": "execute_result"
    }
   ],
   "source": [
    "#describtion for spam sms\n",
    "df[df['target']==1][['num_characters','num_words', 'num_sentences']].describe()"
   ]
  },
  {
   "cell_type": "code",
   "execution_count": 38,
   "id": "3dc7ef23-8bab-4744-a5ac-c638190fb9a9",
   "metadata": {},
   "outputs": [],
   "source": [
    "import seaborn as sns"
   ]
  },
  {
   "cell_type": "code",
   "execution_count": 39,
   "id": "fa115f53-8abf-4013-a757-13f77f197551",
   "metadata": {},
   "outputs": [
    {
     "data": {
      "text/plain": [
       "<Axes: xlabel='num_characters', ylabel='Count'>"
      ]
     },
     "execution_count": 39,
     "metadata": {},
     "output_type": "execute_result"
    },
    {
     "data": {
      "image/png": "[encoded data removed]",
      "text/plain": [
       "<Figure size 640x480 with 1 Axes>"
      ]
     },
     "metadata": {},
     "output_type": "display_data"
    }
   ],
   "source": [
    "#histogram for spam and ham sms\n",
    "sns.histplot(df[df['target']==0]['num_characters'])\n",
    "sns.histplot(df[df['target']==1]['num_characters'],color='red')"
   ]
  },
  {
   "cell_type": "code",
   "execution_count": 40,
   "id": "8fc8d7b4-cdea-4008-839a-84258aa288d3",
   "metadata": {},
   "outputs": [
    {
     "data": {
      "text/plain": [
       "<Axes: xlabel='num_words', ylabel='Count'>"
      ]
     },
     "execution_count": 40,
     "metadata": {},
     "output_type": "execute_result"
    },
    {
     "data": {
      "image/png": "[encoded data removed]",
      "text/plain": [
       "<Figure size 640x480 with 1 Axes>"
      ]
     },
     "metadata": {},
     "output_type": "display_data"
    }
   ],
   "source": [
    "#histogram for spam and ham sms in term of words\n",
    "sns.histplot(df[df['target']==0]['num_words'])\n",
    "sns.histplot(df[df['target']==1]['num_words'],color='red')"
   ]
  },
  {
   "cell_type": "code",
   "execution_count": 41,
   "id": "fdde045a-0d40-45d1-906d-126bf3a7ea6b",
   "metadata": {},
   "outputs": [
    {
     "data": {
      "text/plain": [
       "<Axes: xlabel='num_sentences', ylabel='Count'>"
      ]
     },
     "execution_count": 41,
     "metadata": {},
     "output_type": "execute_result"
    },
    {
     "data": {
      "image/png": "[encoded data removed]",
      "text/plain": [
       "<Figure size 640x480 with 1 Axes>"
      ]
     },
     "metadata": {},
     "output_type": "display_data"
    }
   ],
   "source": [
    "#histogram for spam and ham sms\n",
    "sns.histplot(df[df['target']==0]['num_sentences'])\n",
    "sns.histplot(df[df['target']==1]['num_sentences'],color='red')"
   ]
  },
  {
   "cell_type": "code",
   "execution_count": 42,
   "id": "9bd66cac-ca77-491d-9814-4f9704020974",
   "metadata": {},
   "outputs": [
    {
     "data": {
      "text/plain": [
       "<seaborn.axisgrid.PairGrid at 0x17ff3fd8830>"
      ]
     },
     "execution_count": 42,
     "metadata": {},
     "output_type": "execute_result"
    },
    {
     "data": {
      "image/png": "[encoded data removed]",
      "text/plain": [
       "<Figure size 808.875x750 with 12 Axes>"
      ]
     },
     "metadata": {},
     "output_type": "display_data"
    }
   ],
   "source": [
    "sns.pairplot(df,hue='target')"
   ]
  },
  {
   "cell_type": "code",
   "execution_count": 46,
   "id": "3f38b892-86a5-421f-8cfc-51c9106b84d8",
   "metadata": {
    "scrolled": true
   },
   "outputs": [
    {
     "data": {
      "image/png": "[encoded data removed]",
      "text/plain": [
       "<Figure size 640x480 with 2 Axes>"
      ]
     },
     "metadata": {},
     "output_type": "display_data"
    }
   ],
   "source": [
    "import seaborn as sns\n",
    "import matplotlib.pyplot as plt\n",
    "\n",
    "# Select numeric columns only\n",
    "numeric_df = df.select_dtypes(include=['number'])\n",
    "\n",
    "# Compute correlation and plot heatmap\n",
    "sns.heatmap(numeric_df.corr(), annot=True, cmap='coolwarm')\n",
    "plt.show()\n"
   ]
  },
  {
   "cell_type": "markdown",
   "id": "2b2ff904-0c62-4dc4-967e-16e228cdcc93",
   "metadata": {},
   "source": [
    "# Data Preprocessing"
   ]
  },
  {
   "cell_type": "code",
   "execution_count": 50,
   "id": "0fb90754-8ffe-4434-8d06-b90aff1b2115",
   "metadata": {},
   "outputs": [],
   "source": [
    "#tokenize every word\n",
    "def transform_text(text):\n",
    "    text=text.lower()\n",
    "    text=nltk.word_tokenize(text)\n",
    "    return text"
   ]
  },
  {
   "cell_type": "code",
   "execution_count": 51,
   "id": "22606075-8f8c-408f-ae49-fa0155841f5e",
   "metadata": {},
   "outputs": [
    {
     "data": {
      "text/plain": [
       "['এই', 'মেসেজটি', 'শেয়ার', 'করুন']"
      ]
     },
     "execution_count": 51,
     "metadata": {},
     "output_type": "execute_result"
    }
   ],
   "source": [
    "transform_text('এই মেসেজটি শেয়ার করুন ')"
   ]
  },
  {
   "cell_type": "code",
   "execution_count": 60,
   "id": "d22926ef-df07-4aa5-98e7-a4a1653d72d1",
   "metadata": {},
   "outputs": [
    {
     "name": "stderr",
     "output_type": "stream",
     "text": [
      "[nltk_data] Downloading package punkt to\n",
      "[nltk_data]     C:\\Users\\shahr\\AppData\\Roaming\\nltk_data...\n",
      "[nltk_data]   Package punkt is already up-to-date!\n"
     ]
    }
   ],
   "source": [
    "import re\n",
    "import nltk\n",
    "nltk.download('punkt')\n",
    "\n",
    "def transform_text(text):\n",
    "    # Tokenize the text into words\n",
    "    words = nltk.word_tokenize(text)  \n",
    "    \n",
    "    # Clean each word (remove special characters, keep Bangla, English, and numbers)\n",
    "    clean_words = [re.sub(r'[^a-zA-Z0-9\\u0980-\\u09FF]', '', word) for word in words]\n",
    "    \n",
    "    # Remove empty strings after cleaning\n",
    "    clean_words = [word for word in clean_words if word]  \n",
    "    \n",
    "    return clean_words  # Returning tokenized words as a list"
   ]
  },
  {
   "cell_type": "code",
   "execution_count": 61,
   "id": "680debd2-f2c8-4217-b276-b21c4215a722",
   "metadata": {},
   "outputs": [
    {
     "name": "stdout",
     "output_type": "stream",
     "text": [
      "['আজকের', 'স্পেশাল', 'অফার', 'ফ্রোজেন', 'ফুডে', '১৫', 'ডিসকাউন্ট']\n"
     ]
    }
   ],
   "source": [
    "# Test the function\n",
    "print(transform_text('আজকের স্পেশাল অফার! ফ্রোজেন ফুডে ১৫ % ডিসকাউন্ট! '))"
   ]
  },
  {
   "cell_type": "code",
   "execution_count": 63,
   "id": "708d45e4-2863-46ee-8cac-236a25d7b554",
   "metadata": {},
   "outputs": [
    {
     "name": "stderr",
     "output_type": "stream",
     "text": [
      "[nltk_data] Downloading package stopwords to\n",
      "[nltk_data]     C:\\Users\\shahr\\AppData\\Roaming\\nltk_data...\n",
      "[nltk_data]   Unzipping corpora\\stopwords.zip.\n"
     ]
    },
    {
     "name": "stdout",
     "output_type": "stream",
     "text": [
      "['অতএব', 'অথচ', 'অথবা', 'অনুযায়ী', 'অনেক', 'অনেকে', 'অনেকেই', 'অন্তত', 'অন্য', 'অবধি']\n"
     ]
    }
   ],
   "source": [
    "import nltk\n",
    "from nltk.corpus import stopwords\n",
    "\n",
    "# Download stopwords if not already downloaded\n",
    "nltk.download('stopwords')\n",
    "\n",
    "# Get Bangla stopwords\n",
    "bangla_stopwords = stopwords.words('bengali')  # Use 'bengali' instead of 'bangla'\n",
    "\n",
    "print(bangla_stopwords[:10])  # Show first 10 stopwords"
   ]
  },
  {
   "cell_type": "code",
   "execution_count": 64,
   "id": "7b4cda41-6e61-4770-8f5f-a3bcfc7d21cf",
   "metadata": {},
   "outputs": [
    {
     "data": {
      "text/plain": [
       "'!\"#$%&\\'()*+,-./:;<=>?@[\\\\]^_`{|}~'"
      ]
     },
     "execution_count": 64,
     "metadata": {},
     "output_type": "execute_result"
    }
   ],
   "source": [
    "import string\n",
    "string.punctuation"
   ]
  },
  {
   "cell_type": "code",
   "execution_count": 80,
   "id": "ecb24509-d5b3-4e4d-8d38-1df748aacb08",
   "metadata": {},
   "outputs": [
    {
     "name": "stdout",
     "output_type": "stream",
     "text": [
      "Requirement already satisfied: bnlp in c:\\users\\shahr\\appdata\\local\\programs\\python\\python313\\lib\\site-packages (0.8)\n",
      "Note: you may need to restart the kernel to use updated packages.\n"
     ]
    }
   ],
   "source": [
    "pip install bnlp"
   ]
  },
  {
   "cell_type": "code",
   "execution_count": null,
   "id": "d58e58ab-0bb8-4e6d-ab39-52836704dad2",
   "metadata": {},
   "outputs": [],
   "source": []
  }
 ],
 "metadata": {
  "kernelspec": {
   "display_name": "Python 3 (ipykernel)",
   "language": "python",
   "name": "python3"
  },
  "language_info": {
   "codemirror_mode": {
    "name": "ipython",
    "version": 3
   },
   "file_extension": ".py",
   "mimetype": "text/x-python",
   "name": "python",
   "nbconvert_exporter": "python",
   "pygments_lexer": "ipython3",
   "version": "3.13.2"
  }
 },
 "nbformat": 4,
 "nbformat_minor": 5
}
