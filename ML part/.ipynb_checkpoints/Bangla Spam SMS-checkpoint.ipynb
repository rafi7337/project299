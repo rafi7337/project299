{
 "cells": [
  {
   "cell_type": "code",
   "execution_count": 1,
   "id": "6732b8cd-38a2-4e69-9441-074de6c151d3",
   "metadata": {},
   "outputs": [],
   "source": [
    "#importing all the libraries\n",
    "import pandas as pd\n",
    "import numpy as np\n",
    "import seaborn as sns"
   ]
  },
  {
   "cell_type": "code",
   "execution_count": 2,
   "id": "67860225-6d99-44ae-984c-08553f8f6e51",
   "metadata": {},
   "outputs": [
    {
     "name": "stdout",
     "output_type": "stream",
     "text": [
      "D:\\Jupyter Notebook\n"
     ]
    }
   ],
   "source": [
    "import os\n",
    "print(os.getcwd())"
   ]
  },
  {
   "cell_type": "code",
   "execution_count": 3,
   "id": "7fbf1136-2f8f-4ebd-a3e3-6a72a6271010",
   "metadata": {},
   "outputs": [],
   "source": [
    "#directing the .csv file location \n",
    "df = pd.read_csv(r'D:\\Jupyter Notebook\\bangla_spam.csv')"
   ]
  },
  {
   "cell_type": "code",
   "execution_count": 4,
   "id": "552173f0-e7c0-435a-88ee-0aef8e554219",
   "metadata": {},
   "outputs": [
    {
     "name": "stdout",
     "output_type": "stream",
     "text": [
      "   type                                               text\n",
      "0  spam  এই মেসেজটি শেয়ার করুন এবং জিতে নিন আকর্ষণীয় ...\n",
      "1  spam  আপনার বন্ধুদের রেফার করুন এবং প্রতি রেফারেলে ২...\n",
      "2   ham  ট্রানজ্যাকশন নম্বর R234321.1554.640085 20 টাকা...\n",
      "3  spam  নতুন অফার! সীমিত সময়ের জন্য পণ্যের উপর ৯০% পর...\n",
      "4   ham  নববর্ষের শুভেচ্ছা!! আল্লাহ আপনার সকল কষ্ট দূর ...\n"
     ]
    }
   ],
   "source": [
    "#printing the DataFrame\n",
    "print(df.head())"
   ]
  },
  {
   "cell_type": "code",
   "execution_count": 5,
   "id": "6ea5d743-ad97-4e68-8137-70b130198903",
   "metadata": {},
   "outputs": [
    {
     "data": {
      "text/html": [
       "<div>\n",
       "<style scoped>\n",
       "    .dataframe tbody tr th:only-of-type {\n",
       "        vertical-align: middle;\n",
       "    }\n",
       "\n",
       "    .dataframe tbody tr th {\n",
       "        vertical-align: top;\n",
       "    }\n",
       "\n",
       "    .dataframe thead th {\n",
       "        text-align: right;\n",
       "    }\n",
       "</style>\n",
       "<table border=\"1\" class=\"dataframe\">\n",
       "  <thead>\n",
       "    <tr style=\"text-align: right;\">\n",
       "      <th></th>\n",
       "      <th>type</th>\n",
       "      <th>text</th>\n",
       "      <th>spam</th>\n",
       "    </tr>\n",
       "  </thead>\n",
       "  <tbody>\n",
       "    <tr>\n",
       "      <th>0</th>\n",
       "      <td>spam</td>\n",
       "      <td>এই মেসেজটি শেয়ার করুন এবং জিতে নিন আকর্ষণীয় ...</td>\n",
       "      <td>1</td>\n",
       "    </tr>\n",
       "    <tr>\n",
       "      <th>1</th>\n",
       "      <td>spam</td>\n",
       "      <td>আপনার বন্ধুদের রেফার করুন এবং প্রতি রেফারেলে ২...</td>\n",
       "      <td>1</td>\n",
       "    </tr>\n",
       "    <tr>\n",
       "      <th>2</th>\n",
       "      <td>ham</td>\n",
       "      <td>ট্রানজ্যাকশন নম্বর R234321.1554.640085 20 টাকা...</td>\n",
       "      <td>0</td>\n",
       "    </tr>\n",
       "    <tr>\n",
       "      <th>3</th>\n",
       "      <td>spam</td>\n",
       "      <td>নতুন অফার! সীমিত সময়ের জন্য পণ্যের উপর ৯০% পর...</td>\n",
       "      <td>1</td>\n",
       "    </tr>\n",
       "    <tr>\n",
       "      <th>4</th>\n",
       "      <td>ham</td>\n",
       "      <td>নববর্ষের শুভেচ্ছা!! আল্লাহ আপনার সকল কষ্ট দূর ...</td>\n",
       "      <td>0</td>\n",
       "    </tr>\n",
       "  </tbody>\n",
       "</table>\n",
       "</div>"
      ],
      "text/plain": [
       "   type                                               text  spam\n",
       "0  spam  এই মেসেজটি শেয়ার করুন এবং জিতে নিন আকর্ষণীয় ...     1\n",
       "1  spam  আপনার বন্ধুদের রেফার করুন এবং প্রতি রেফারেলে ২...     1\n",
       "2   ham  ট্রানজ্যাকশন নম্বর R234321.1554.640085 20 টাকা...     0\n",
       "3  spam  নতুন অফার! সীমিত সময়ের জন্য পণ্যের উপর ৯০% পর...     1\n",
       "4   ham  নববর্ষের শুভেচ্ছা!! আল্লাহ আপনার সকল কষ্ট দূর ...     0"
      ]
     },
     "execution_count": 5,
     "metadata": {},
     "output_type": "execute_result"
    }
   ],
   "source": [
    "# adding a new column named 'spam' where 'spam' = 1 if 'type' is 'spam', else add 0\n",
    "df['spam'] = df['type'].apply(lambda x: 1 if x == 'spam' else 0)\n",
    "\n",
    "# Display the updated DataFrame\n",
    "df.head()"
   ]
  },
  {
   "cell_type": "code",
   "execution_count": 6,
   "id": "2de33b84-4254-48af-b04c-35e652308c33",
   "metadata": {},
   "outputs": [
    {
     "data": {
      "text/plain": [
       "spam\n",
       "1    1403\n",
       "0    1199\n",
       "Name: count, dtype: int64"
      ]
     },
     "execution_count": 6,
     "metadata": {},
     "output_type": "execute_result"
    }
   ],
   "source": [
    "#counting all spam and ham values\n",
    "df['spam'].value_counts()"
   ]
  },
  {
   "cell_type": "code",
   "execution_count": 11,
   "id": "c849006a-1461-4f60-85b5-fe65e6aaf85c",
   "metadata": {},
   "outputs": [],
   "source": [
    "#droping all the duplicates if there any\n",
    "df.drop_duplicates(inplace=True)"
   ]
  },
  {
   "cell_type": "code",
   "execution_count": 12,
   "id": "9cac86c7-edab-45f6-adc0-ce8cd37a0ef1",
   "metadata": {},
   "outputs": [
    {
     "data": {
      "text/html": [
       "<div>\n",
       "<style scoped>\n",
       "    .dataframe tbody tr th:only-of-type {\n",
       "        vertical-align: middle;\n",
       "    }\n",
       "\n",
       "    .dataframe tbody tr th {\n",
       "        vertical-align: top;\n",
       "    }\n",
       "\n",
       "    .dataframe thead th {\n",
       "        text-align: right;\n",
       "    }\n",
       "</style>\n",
       "<table border=\"1\" class=\"dataframe\">\n",
       "  <thead>\n",
       "    <tr style=\"text-align: right;\">\n",
       "      <th></th>\n",
       "      <th>type</th>\n",
       "      <th>text</th>\n",
       "      <th>spam</th>\n",
       "    </tr>\n",
       "  </thead>\n",
       "  <tbody>\n",
       "    <tr>\n",
       "      <th>0</th>\n",
       "      <td>spam</td>\n",
       "      <td>এই মেসেজটি শেয়ার করুন এবং জিতে নিন আকর্ষণীয় ...</td>\n",
       "      <td>1</td>\n",
       "    </tr>\n",
       "    <tr>\n",
       "      <th>1</th>\n",
       "      <td>spam</td>\n",
       "      <td>আপনার বন্ধুদের রেফার করুন এবং প্রতি রেফারেলে ২...</td>\n",
       "      <td>1</td>\n",
       "    </tr>\n",
       "    <tr>\n",
       "      <th>2</th>\n",
       "      <td>ham</td>\n",
       "      <td>ট্রানজ্যাকশন নম্বর R234321.1554.640085 20 টাকা...</td>\n",
       "      <td>0</td>\n",
       "    </tr>\n",
       "    <tr>\n",
       "      <th>3</th>\n",
       "      <td>spam</td>\n",
       "      <td>নতুন অফার! সীমিত সময়ের জন্য পণ্যের উপর ৯০% পর...</td>\n",
       "      <td>1</td>\n",
       "    </tr>\n",
       "    <tr>\n",
       "      <th>4</th>\n",
       "      <td>ham</td>\n",
       "      <td>নববর্ষের শুভেচ্ছা!! আল্লাহ আপনার সকল কষ্ট দূর ...</td>\n",
       "      <td>0</td>\n",
       "    </tr>\n",
       "    <tr>\n",
       "      <th>...</th>\n",
       "      <td>...</td>\n",
       "      <td>...</td>\n",
       "      <td>...</td>\n",
       "    </tr>\n",
       "    <tr>\n",
       "      <th>2597</th>\n",
       "      <td>spam</td>\n",
       "      <td>প্রতিদিন ১০০ টাকা জিততে চান? এখনই অংশগ্রহণ করুন!</td>\n",
       "      <td>1</td>\n",
       "    </tr>\n",
       "    <tr>\n",
       "      <th>2598</th>\n",
       "      <td>spam</td>\n",
       "      <td>মোবাইল অ্যাপ ডাউনলোড করুন এবং ৫০০ টাকা বোনাস পান!</td>\n",
       "      <td>1</td>\n",
       "    </tr>\n",
       "    <tr>\n",
       "      <th>2599</th>\n",
       "      <td>spam</td>\n",
       "      <td>নতুন গ্রাহকদের জন্য বিশেষ অফার, আজই উপভোগ করুন!</td>\n",
       "      <td>1</td>\n",
       "    </tr>\n",
       "    <tr>\n",
       "      <th>2600</th>\n",
       "      <td>spam</td>\n",
       "      <td>আপনার অ্যাকাউন্ট আপগ্রেড করুন এবং এক্সক্লুসিভ ...</td>\n",
       "      <td>1</td>\n",
       "    </tr>\n",
       "    <tr>\n",
       "      <th>2601</th>\n",
       "      <td>spam</td>\n",
       "      <td>বিশেষ ছাড়! ২৪ ঘন্টার মধ্যে অর্ডার করুন এবং ৩০...</td>\n",
       "      <td>1</td>\n",
       "    </tr>\n",
       "  </tbody>\n",
       "</table>\n",
       "<p>2577 rows × 3 columns</p>\n",
       "</div>"
      ],
      "text/plain": [
       "      type                                               text  spam\n",
       "0     spam  এই মেসেজটি শেয়ার করুন এবং জিতে নিন আকর্ষণীয় ...     1\n",
       "1     spam  আপনার বন্ধুদের রেফার করুন এবং প্রতি রেফারেলে ২...     1\n",
       "2      ham  ট্রানজ্যাকশন নম্বর R234321.1554.640085 20 টাকা...     0\n",
       "3     spam  নতুন অফার! সীমিত সময়ের জন্য পণ্যের উপর ৯০% পর...     1\n",
       "4      ham  নববর্ষের শুভেচ্ছা!! আল্লাহ আপনার সকল কষ্ট দূর ...     0\n",
       "...    ...                                                ...   ...\n",
       "2597  spam   প্রতিদিন ১০০ টাকা জিততে চান? এখনই অংশগ্রহণ করুন!     1\n",
       "2598  spam  মোবাইল অ্যাপ ডাউনলোড করুন এবং ৫০০ টাকা বোনাস পান!     1\n",
       "2599  spam    নতুন গ্রাহকদের জন্য বিশেষ অফার, আজই উপভোগ করুন!     1\n",
       "2600  spam  আপনার অ্যাকাউন্ট আপগ্রেড করুন এবং এক্সক্লুসিভ ...     1\n",
       "2601  spam  বিশেষ ছাড়! ২৪ ঘন্টার মধ্যে অর্ডার করুন এবং ৩০...     1\n",
       "\n",
       "[2577 rows x 3 columns]"
      ]
     },
     "execution_count": 12,
     "metadata": {},
     "output_type": "execute_result"
    }
   ],
   "source": [
    "df"
   ]
  },
  {
   "cell_type": "code",
   "execution_count": 13,
   "id": "e7887976-d615-4185-961b-c14c70fa3cf1",
   "metadata": {},
   "outputs": [
    {
     "data": {
      "text/plain": [
       "spam\n",
       "1    1399\n",
       "0    1178\n",
       "Name: count, dtype: int64"
      ]
     },
     "execution_count": 13,
     "metadata": {},
     "output_type": "execute_result"
    }
   ],
   "source": [
    "#after droping duplicate values, new values\n",
    "df['spam'].value_counts()"
   ]
  },
  {
   "cell_type": "code",
   "execution_count": 14,
   "id": "20e78dc0-86e1-485e-9696-e59e1d01101e",
   "metadata": {},
   "outputs": [
    {
     "data": {
      "text/plain": [
       "type    0\n",
       "text    0\n",
       "spam    0\n",
       "dtype: int64"
      ]
     },
     "execution_count": 14,
     "metadata": {},
     "output_type": "execute_result"
    }
   ],
   "source": [
    "#find and count if any null value exists\n",
    "df.isnull().sum()"
   ]
  },
  {
   "cell_type": "code",
   "execution_count": 15,
   "id": "8b14b05b-7284-4348-9584-f93617fc41fe",
   "metadata": {},
   "outputs": [],
   "source": [
    "#separating x and y value. here 'x' is independent variable and 'y' is dependent variable\n",
    "x = df.text.values\n",
    "y = df.spam.values"
   ]
  },
  {
   "cell_type": "code",
   "execution_count": 21,
   "id": "2dc310d5-eb5f-4ab6-b650-dbc6ca9697de",
   "metadata": {},
   "outputs": [
    {
     "name": "stdout",
     "output_type": "stream",
     "text": [
      "Requirement already satisfied: scikit-learn in c:\\users\\shahr\\appdata\\local\\programs\\python\\python313\\lib\\site-packages (1.6.1)\n",
      "Requirement already satisfied: numpy>=1.19.5 in c:\\users\\shahr\\appdata\\local\\programs\\python\\python313\\lib\\site-packages (from scikit-learn) (2.2.2)\n",
      "Requirement already satisfied: scipy>=1.6.0 in c:\\users\\shahr\\appdata\\local\\programs\\python\\python313\\lib\\site-packages (from scikit-learn) (1.15.1)\n",
      "Requirement already satisfied: joblib>=1.2.0 in c:\\users\\shahr\\appdata\\local\\programs\\python\\python313\\lib\\site-packages (from scikit-learn) (1.4.2)\n",
      "Requirement already satisfied: threadpoolctl>=3.1.0 in c:\\users\\shahr\\appdata\\local\\programs\\python\\python313\\lib\\site-packages (from scikit-learn) (3.5.0)\n"
     ]
    }
   ],
   "source": [
    "#Installing the Scikit-learn library\n",
    "!pip install scikit-learn"
   ]
  },
  {
   "cell_type": "code",
   "execution_count": 22,
   "id": "1d6bcff0-1d19-42eb-a406-d9ec8373f989",
   "metadata": {},
   "outputs": [],
   "source": [
    "#spliting the dataset\n",
    "from sklearn.model_selection import train_test_split"
   ]
  },
  {
   "cell_type": "code",
   "execution_count": 24,
   "id": "636c76a0-07ec-4581-8236-49b9f08b68d9",
   "metadata": {},
   "outputs": [],
   "source": [
    "#x → Independent variable (features) → df['text'].values\n",
    "#y → Dependent variable (labels) → df['spam'].values\n",
    "#test_size=0.2 → 20% data goes to testing, 80% goes to training.\n",
    "\n",
    "          #Returns 4 outputs:\n",
    "\n",
    "#xtrain → 80% of x (training features)\n",
    "#xtest → 20% of x (testing features)\n",
    "#ytrain → 80% of y (training labels)\n",
    "#ytest → 20% of y (testing labels)\n",
    "\n",
    "\n",
    "xtrain, xtest, ytrain, ytest = train_test_split(x, y, test_size=0.2)"
   ]
  },
  {
   "cell_type": "code",
   "execution_count": null,
   "id": "ca1741a8-6d54-4273-bee8-f33563321f26",
   "metadata": {},
   "outputs": [],
   "source": []
  },
  {
   "cell_type": "code",
   "execution_count": null,
   "id": "5d18c6cb-2a1a-4d9b-ac92-bb0528eb3a82",
   "metadata": {},
   "outputs": [],
   "source": []
  },
  {
   "cell_type": "code",
   "execution_count": null,
   "id": "b7aa91c1-f87d-4daf-b115-9e40e8c12296",
   "metadata": {},
   "outputs": [],
   "source": []
  }
 ],
 "metadata": {
  "kernelspec": {
   "display_name": "Python 3 (ipykernel)",
   "language": "python",
   "name": "python3"
  },
  "language_info": {
   "codemirror_mode": {
    "name": "ipython",
    "version": 3
   },
   "file_extension": ".py",
   "mimetype": "text/x-python",
   "name": "python",
   "nbconvert_exporter": "python",
   "pygments_lexer": "ipython3",
   "version": "3.13.2"
  }
 },
 "nbformat": 4,
 "nbformat_minor": 5
}
