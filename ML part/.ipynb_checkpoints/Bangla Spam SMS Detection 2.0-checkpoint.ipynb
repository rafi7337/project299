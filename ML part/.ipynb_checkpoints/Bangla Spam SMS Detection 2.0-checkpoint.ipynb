{
 "cells": [
  {
   "cell_type": "code",
   "execution_count": 1,
   "id": "6f818286-7683-469a-ac53-8024815191bd",
   "metadata": {},
   "outputs": [],
   "source": [
    "#importing all the libraries\n",
    "import pandas as pd\n",
    "import numpy as np\n",
    "import seaborn as sns"
   ]
  },
  {
   "cell_type": "code",
   "execution_count": 2,
   "id": "337519da-a662-40c3-9a04-2112ff2e98fa",
   "metadata": {},
   "outputs": [
    {
     "name": "stdout",
     "output_type": "stream",
     "text": [
      "D:\\CSE Code\\Jupyter Notebook\n"
     ]
    }
   ],
   "source": [
    "import os\n",
    "print(os.getcwd())"
   ]
  },
  {
   "cell_type": "code",
   "execution_count": 7,
   "id": "dbb93c72-53c0-410f-ad79-4e6371c92a66",
   "metadata": {},
   "outputs": [],
   "source": [
    "#directing the .csv file location \n",
    "df = pd.read_csv(r'D:\\CSE Code\\Jupyter Notebook\\bangla_spam.csv')"
   ]
  },
  {
   "cell_type": "code",
   "execution_count": 8,
   "id": "18970d8b-68b0-40d1-ad81-16e129ed9007",
   "metadata": {},
   "outputs": [
    {
     "name": "stdout",
     "output_type": "stream",
     "text": [
      "   type                                               text\n",
      "0  spam  এই মেসেজটি শেয়ার করুন এবং জিতে নিন আকর্ষণীয় ...\n",
      "1  spam  আপনার বন্ধুদের রেফার করুন এবং প্রতি রেফারেলে ২...\n",
      "2   ham  ট্রানজ্যাকশন নম্বর R234321.1554.640085 20 টাকা...\n",
      "3  spam  নতুন অফার! সীমিত সময়ের জন্য পণ্যের উপর ৯০% পর...\n",
      "4   ham  নববর্ষের শুভেচ্ছা!! আল্লাহ আপনার সকল কষ্ট দূর ...\n"
     ]
    }
   ],
   "source": [
    "#printing the DataFrame\n",
    "print(df.head())"
   ]
  },
  {
   "cell_type": "code",
   "execution_count": 9,
   "id": "92937bf5-8630-4368-92cc-9d4ec136088a",
   "metadata": {},
   "outputs": [
    {
     "data": {
      "text/html": [
       "<div>\n",
       "<style scoped>\n",
       "    .dataframe tbody tr th:only-of-type {\n",
       "        vertical-align: middle;\n",
       "    }\n",
       "\n",
       "    .dataframe tbody tr th {\n",
       "        vertical-align: top;\n",
       "    }\n",
       "\n",
       "    .dataframe thead th {\n",
       "        text-align: right;\n",
       "    }\n",
       "</style>\n",
       "<table border=\"1\" class=\"dataframe\">\n",
       "  <thead>\n",
       "    <tr style=\"text-align: right;\">\n",
       "      <th></th>\n",
       "      <th>type</th>\n",
       "      <th>text</th>\n",
       "      <th>spam</th>\n",
       "    </tr>\n",
       "  </thead>\n",
       "  <tbody>\n",
       "    <tr>\n",
       "      <th>0</th>\n",
       "      <td>spam</td>\n",
       "      <td>এই মেসেজটি শেয়ার করুন এবং জিতে নিন আকর্ষণীয় ...</td>\n",
       "      <td>1</td>\n",
       "    </tr>\n",
       "    <tr>\n",
       "      <th>1</th>\n",
       "      <td>spam</td>\n",
       "      <td>আপনার বন্ধুদের রেফার করুন এবং প্রতি রেফারেলে ২...</td>\n",
       "      <td>1</td>\n",
       "    </tr>\n",
       "    <tr>\n",
       "      <th>2</th>\n",
       "      <td>ham</td>\n",
       "      <td>ট্রানজ্যাকশন নম্বর R234321.1554.640085 20 টাকা...</td>\n",
       "      <td>0</td>\n",
       "    </tr>\n",
       "    <tr>\n",
       "      <th>3</th>\n",
       "      <td>spam</td>\n",
       "      <td>নতুন অফার! সীমিত সময়ের জন্য পণ্যের উপর ৯০% পর...</td>\n",
       "      <td>1</td>\n",
       "    </tr>\n",
       "    <tr>\n",
       "      <th>4</th>\n",
       "      <td>ham</td>\n",
       "      <td>নববর্ষের শুভেচ্ছা!! আল্লাহ আপনার সকল কষ্ট দূর ...</td>\n",
       "      <td>0</td>\n",
       "    </tr>\n",
       "  </tbody>\n",
       "</table>\n",
       "</div>"
      ],
      "text/plain": [
       "   type                                               text  spam\n",
       "0  spam  এই মেসেজটি শেয়ার করুন এবং জিতে নিন আকর্ষণীয় ...     1\n",
       "1  spam  আপনার বন্ধুদের রেফার করুন এবং প্রতি রেফারেলে ২...     1\n",
       "2   ham  ট্রানজ্যাকশন নম্বর R234321.1554.640085 20 টাকা...     0\n",
       "3  spam  নতুন অফার! সীমিত সময়ের জন্য পণ্যের উপর ৯০% পর...     1\n",
       "4   ham  নববর্ষের শুভেচ্ছা!! আল্লাহ আপনার সকল কষ্ট দূর ...     0"
      ]
     },
     "execution_count": 9,
     "metadata": {},
     "output_type": "execute_result"
    }
   ],
   "source": [
    "# adding a new column named 'spam' where 'spam' = 1 if 'type' is 'spam', else add 0\n",
    "df['spam'] = df['type'].apply(lambda x: 1 if x == 'spam' else 0)\n",
    "\n",
    "# Display the updated DataFrame\n",
    "df.head()"
   ]
  },
  {
   "cell_type": "code",
   "execution_count": 10,
   "id": "988d4bf0-0af6-4004-9954-d3dab374ae2a",
   "metadata": {},
   "outputs": [
    {
     "data": {
      "text/plain": [
       "spam\n",
       "1    1403\n",
       "0    1199\n",
       "Name: count, dtype: int64"
      ]
     },
     "execution_count": 10,
     "metadata": {},
     "output_type": "execute_result"
    }
   ],
   "source": [
    "#counting all spam and ham values\n",
    "df['spam'].value_counts()"
   ]
  },
  {
   "cell_type": "code",
   "execution_count": 11,
   "id": "6cd0ac31-4174-4bbe-b3c1-8c8a30515072",
   "metadata": {},
   "outputs": [],
   "source": [
    "#droping all the duplicates if there any\n",
    "df.drop_duplicates(inplace=True)"
   ]
  },
  {
   "cell_type": "code",
   "execution_count": 12,
   "id": "74803eb3-04cb-4461-aa79-1b5ae8f7975f",
   "metadata": {},
   "outputs": [
    {
     "data": {
      "text/plain": [
       "spam\n",
       "1    1399\n",
       "0    1178\n",
       "Name: count, dtype: int64"
      ]
     },
     "execution_count": 12,
     "metadata": {},
     "output_type": "execute_result"
    }
   ],
   "source": [
    "#after droping duplicate values, new values\n",
    "df['spam'].value_counts()"
   ]
  },
  {
   "cell_type": "code",
   "execution_count": 13,
   "id": "dfd153d3-ddca-4cb3-918b-f9570b572fbf",
   "metadata": {},
   "outputs": [
    {
     "data": {
      "text/plain": [
       "type    0\n",
       "text    0\n",
       "spam    0\n",
       "dtype: int64"
      ]
     },
     "execution_count": 13,
     "metadata": {},
     "output_type": "execute_result"
    }
   ],
   "source": [
    "#find and count if any null value exists\n",
    "df.isnull().sum()"
   ]
  },
  {
   "cell_type": "code",
   "execution_count": 14,
   "id": "bc2831c5-547c-4109-b8cf-59bb310c73dd",
   "metadata": {},
   "outputs": [],
   "source": [
    "#separating x and y value. here 'x' is independent variable and 'y' is dependent variable\n",
    "x = df.text.values\n",
    "y = df.spam.values"
   ]
  },
  {
   "cell_type": "code",
   "execution_count": 15,
   "id": "0eaa961c-c6ee-4cf5-8d0b-8d864e81e860",
   "metadata": {},
   "outputs": [
    {
     "name": "stdout",
     "output_type": "stream",
     "text": [
      "Requirement already satisfied: scikit-learn in c:\\users\\shahr\\appdata\\local\\programs\\python\\python313\\lib\\site-packages (1.6.1)\n",
      "Requirement already satisfied: numpy>=1.19.5 in c:\\users\\shahr\\appdata\\local\\programs\\python\\python313\\lib\\site-packages (from scikit-learn) (2.2.2)\n",
      "Requirement already satisfied: scipy>=1.6.0 in c:\\users\\shahr\\appdata\\local\\programs\\python\\python313\\lib\\site-packages (from scikit-learn) (1.15.1)\n",
      "Requirement already satisfied: joblib>=1.2.0 in c:\\users\\shahr\\appdata\\local\\programs\\python\\python313\\lib\\site-packages (from scikit-learn) (1.4.2)\n",
      "Requirement already satisfied: threadpoolctl>=3.1.0 in c:\\users\\shahr\\appdata\\local\\programs\\python\\python313\\lib\\site-packages (from scikit-learn) (3.5.0)\n"
     ]
    }
   ],
   "source": [
    "#Installing the Scikit-learn library\n",
    "!pip install scikit-learn"
   ]
  },
  {
   "cell_type": "code",
   "execution_count": 19,
   "id": "b749f648-01ca-43f8-9910-a83620447564",
   "metadata": {},
   "outputs": [],
   "source": [
    "#spliting the dataset\n",
    "from sklearn.model_selection import train_test_split"
   ]
  },
  {
   "cell_type": "code",
   "execution_count": 20,
   "id": "2f6fcfe7-3229-4667-a85c-c6f05a6ba90b",
   "metadata": {},
   "outputs": [],
   "source": [
    "#x → Independent variable (features) → df['text'].values\n",
    "#y → Dependent variable (labels) → df['spam'].values\n",
    "#test_size=0.2 → 20% data goes to testing, 80% goes to training.\n",
    "\n",
    "          #Returns 4 outputs:\n",
    "\n",
    "#xtrain → 80% of x (training features)\n",
    "#xtest → 20% of x (testing features)\n",
    "#ytrain → 80% of y (training labels)\n",
    "#ytest → 20% of y (testing labels)\n",
    "\n",
    "\n",
    "xtrain, xtest, ytrain, ytest = train_test_split(x, y, test_size=0.2)"
   ]
  },
  {
   "cell_type": "code",
   "execution_count": 21,
   "id": "862f72b1-b5e2-4fa4-a691-c00c73af70a8",
   "metadata": {},
   "outputs": [],
   "source": [
    "#starting data pre processing using \"CountVectorizer\"\n",
    "from sklearn.feature_extraction.text import CountVectorizer"
   ]
  },
  {
   "cell_type": "code",
   "execution_count": 22,
   "id": "9a7691f1-7928-42b3-8b72-5a3423dc5b1c",
   "metadata": {},
   "outputs": [],
   "source": [
    "cv=CountVectorizer()\n",
    "x_train=cv.fit_transform(xtrain)"
   ]
  },
  {
   "cell_type": "code",
   "execution_count": 23,
   "id": "5b20c70b-3599-4ae8-8238-2ad043b02b9b",
   "metadata": {},
   "outputs": [
    {
     "data": {
      "text/plain": [
       "array([[0, 0, 0, ..., 0, 0, 0],\n",
       "       [0, 0, 0, ..., 0, 0, 0],\n",
       "       [0, 0, 0, ..., 0, 0, 0],\n",
       "       ...,\n",
       "       [0, 0, 0, ..., 0, 0, 0],\n",
       "       [0, 0, 0, ..., 0, 0, 0],\n",
       "       [0, 0, 0, ..., 0, 0, 0]], shape=(2061, 2413))"
      ]
     },
     "execution_count": 23,
     "metadata": {},
     "output_type": "execute_result"
    }
   ],
   "source": [
    "x_train.toarray()"
   ]
  },
  {
   "cell_type": "code",
   "execution_count": null,
   "id": "a82fce6a-e0ba-4b38-8a8c-cfb5981c2738",
   "metadata": {},
   "outputs": [],
   "source": []
  },
  {
   "cell_type": "code",
   "execution_count": null,
   "id": "71e2fe28-f83b-4179-abd8-9d52ef05b193",
   "metadata": {},
   "outputs": [],
   "source": []
  }
 ],
 "metadata": {
  "kernelspec": {
   "display_name": "Python 3 (ipykernel)",
   "language": "python",
   "name": "python3"
  },
  "language_info": {
   "codemirror_mode": {
    "name": "ipython",
    "version": 3
   },
   "file_extension": ".py",
   "mimetype": "text/x-python",
   "name": "python",
   "nbconvert_exporter": "python",
   "pygments_lexer": "ipython3",
   "version": "3.13.2"
  }
 },
 "nbformat": 4,
 "nbformat_minor": 5
}
